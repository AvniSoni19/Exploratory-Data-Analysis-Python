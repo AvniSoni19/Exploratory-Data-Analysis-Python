{
 "cells": [
  {
   "cell_type": "code",
   "execution_count": 2,
   "id": "fd3138de",
   "metadata": {},
   "outputs": [
    {
     "name": "stdout",
     "output_type": "stream",
     "text": [
      "<class 'int'>\n"
     ]
    }
   ],
   "source": [
    "x=10\n",
    "print(type(x))"
   ]
  },
  {
   "cell_type": "code",
   "execution_count": 3,
   "id": "b75d7c44",
   "metadata": {},
   "outputs": [
    {
     "name": "stdout",
     "output_type": "stream",
     "text": [
      "<class 'float'>\n"
     ]
    }
   ],
   "source": [
    "x=5.6\n",
    "print(type(x))"
   ]
  },
  {
   "cell_type": "code",
   "execution_count": 5,
   "id": "e2c9df8c",
   "metadata": {},
   "outputs": [
    {
     "name": "stdout",
     "output_type": "stream",
     "text": [
      "<class 'list'>\n"
     ]
    }
   ],
   "source": [
    "l=[1,'Hello',7.6,True]\n",
    "print(type(l))"
   ]
  },
  {
   "cell_type": "code",
   "execution_count": 6,
   "id": "fea018ef",
   "metadata": {},
   "outputs": [
    {
     "name": "stdout",
     "output_type": "stream",
     "text": [
      "<class 'tuple'>\n"
     ]
    }
   ],
   "source": [
    "t=(1,'Hello',7.6,True)\n",
    "print(type(t))"
   ]
  },
  {
   "cell_type": "code",
   "execution_count": 7,
   "id": "6623424a",
   "metadata": {},
   "outputs": [
    {
     "name": "stdout",
     "output_type": "stream",
     "text": [
      "30 10 200 2.0 10240000000000 0\n"
     ]
    }
   ],
   "source": [
    "#Arithmetic Operator\n",
    "a=20\n",
    "b=10\n",
    "print(a+b,a-b,a*b,a/b,a**b,a%b)"
   ]
  },
  {
   "cell_type": "code",
   "execution_count": 10,
   "id": "acf4b9d5",
   "metadata": {},
   "outputs": [
    {
     "name": "stdout",
     "output_type": "stream",
     "text": [
      "False\n"
     ]
    }
   ],
   "source": [
    "#Comparison Operator\n",
    "x=7\n",
    "y=6\n",
    "print(y>x)"
   ]
  },
  {
   "cell_type": "code",
   "execution_count": null,
   "id": "f83a83d8",
   "metadata": {},
   "outputs": [],
   "source": []
  },
  {
   "cell_type": "code",
   "execution_count": 12,
   "id": "72bf3b10",
   "metadata": {},
   "outputs": [
    {
     "name": "stdout",
     "output_type": "stream",
     "text": [
      "False\n"
     ]
    }
   ],
   "source": [
    "x=10\n",
    "y=5\n",
    "z=6\n",
    "s=9\n",
    "print(x>y and z>s)\n"
   ]
  },
  {
   "cell_type": "code",
   "execution_count": 13,
   "id": "3ee89282",
   "metadata": {},
   "outputs": [
    {
     "name": "stdout",
     "output_type": "stream",
     "text": [
      "8\n"
     ]
    }
   ],
   "source": [
    "#Assignment Operator\n",
    "x=7\n",
    "x+=1\n",
    "print(x)"
   ]
  },
  {
   "cell_type": "code",
   "execution_count": 14,
   "id": "dc08b6ad",
   "metadata": {},
   "outputs": [
    {
     "name": "stdout",
     "output_type": "stream",
     "text": [
      "False\n"
     ]
    }
   ],
   "source": [
    "#Identity Operator\n",
    "x=6\n",
    "z=5\n",
    "print(x is z)"
   ]
  },
  {
   "cell_type": "code",
   "execution_count": 15,
   "id": "9a8551d5",
   "metadata": {},
   "outputs": [
    {
     "name": "stdout",
     "output_type": "stream",
     "text": [
      "True\n"
     ]
    }
   ],
   "source": [
    "#Object Reusability\n",
    "x=6\n",
    "y=6 \n",
    "print(x is y)"
   ]
  },
  {
   "cell_type": "code",
   "execution_count": 18,
   "id": "2db23195",
   "metadata": {},
   "outputs": [
    {
     "name": "stdout",
     "output_type": "stream",
     "text": [
      "False\n",
      "2196302214928\n"
     ]
    }
   ],
   "source": [
    "x=5.6\n",
    "y=5.6\n",
    "print(x is y)\n",
    "#The answer will be false because of object reusabilty which ranges from -5 to 256 and object reusability is applicable for boolean and string but not for float values\n",
    "print(id(x))"
   ]
  },
  {
   "cell_type": "code",
   "execution_count": 20,
   "id": "b6c4c2ab",
   "metadata": {},
   "outputs": [
    {
     "name": "stdout",
     "output_type": "stream",
     "text": [
      "True\n",
      "2196303875952\n",
      "2196303875952\n"
     ]
    }
   ],
   "source": [
    "z='India'\n",
    "x='India'\n",
    "print(x is z)\n",
    "print(id(x))\n",
    "print(id(z))\n"
   ]
  },
  {
   "cell_type": "code",
   "execution_count": 22,
   "id": "8c111964",
   "metadata": {},
   "outputs": [
    {
     "name": "stdout",
     "output_type": "stream",
     "text": [
      "False\n",
      "2196303910768\n",
      "2196303910960\n"
     ]
    }
   ],
   "source": [
    "z='#India'\n",
    "x='#India'\n",
    "print(x is z)\n",
    "print(id(x))\n",
    "print(id(z))\n",
    "#Here the rule of object reusability does not apply due to the use of special symbols in the string"
   ]
  },
  {
   "cell_type": "code",
   "execution_count": 23,
   "id": "34baa04f",
   "metadata": {},
   "outputs": [
    {
     "name": "stdout",
     "output_type": "stream",
     "text": [
      "Enter age:56\n",
      "<class 'str'>\n",
      "56\n"
     ]
    }
   ],
   "source": [
    "#input function\n",
    "x=input(\"Enter age:\")\n",
    "print(type(x))\n",
    "print(x)"
   ]
  },
  {
   "cell_type": "code",
   "execution_count": 29,
   "id": "4eb9ae4f",
   "metadata": {},
   "outputs": [
    {
     "name": "stdout",
     "output_type": "stream",
     "text": [
      "10\t11\t12\n",
      "10 11 12\n",
      "10\t11\t12\n",
      "The value of x is 19 and y is 29\n"
     ]
    }
   ],
   "source": [
    "#Output Function\n",
    "print(10,end='\\t')\n",
    "print(11,end='\\t')\n",
    "print(12,end='\\n')\n",
    "print(10,11,12)\n",
    "print(10,11,12,sep='\\t')\n",
    "x=19\n",
    "y=29\n",
    "print(f'The value of x is {x} and y is {y}')"
   ]
  },
  {
   "cell_type": "code",
   "execution_count": 33,
   "id": "75d7e198",
   "metadata": {},
   "outputs": [
    {
     "name": "stdout",
     "output_type": "stream",
     "text": [
      "Enter the value:10\n",
      "<class 'int'>\n",
      "Enter the value:[3,5,6]\n",
      "<class 'list'>\n",
      "<class 'int'>\n"
     ]
    }
   ],
   "source": [
    "#eval function\n",
    "x=eval(input(\"Enter the value:\"))\n",
    "print(type(x))\n",
    "y=eval(input(\"Enter the value:\"))\n",
    "print(type(y))\n",
    "print(type(y[1]))\n"
   ]
  },
  {
   "cell_type": "code",
   "execution_count": 34,
   "id": "7f8c5061",
   "metadata": {},
   "outputs": [
    {
     "name": "stdout",
     "output_type": "stream",
     "text": [
      "12\n",
      "3\n"
     ]
    }
   ],
   "source": [
    "#len function\n",
    "x=\"python class\"\n",
    "y=[5,6,7]\n",
    "print(len(x))\n",
    "print(len(y))"
   ]
  },
  {
   "cell_type": "code",
   "execution_count": 39,
   "id": "a622a846",
   "metadata": {},
   "outputs": [
    {
     "name": "stdout",
     "output_type": "stream",
     "text": [
      "C\n",
      "5\n",
      "C\n",
      "t\n"
     ]
    }
   ],
   "source": [
    "#indexing\n",
    "x='Python Class'\n",
    "y=[4,7,6,5,9,8,'y','g','j']\n",
    "print(x[7])\n",
    "print(y[3])\n",
    "print(x[-5])\n",
    "print(x[-10])"
   ]
  },
  {
   "cell_type": "code",
   "execution_count": 50,
   "id": "00901d4a",
   "metadata": {
    "scrolled": true
   },
   "outputs": [
    {
     "name": "stdout",
     "output_type": "stream",
     "text": [
      "Python_\n",
      "Ph_a\n",
      "\n",
      "ssalC_noh\n",
      "ssalC_nohtyP\n",
      "saCnh\n",
      "yoCs\n",
      "Ph\n"
     ]
    }
   ],
   "source": [
    "#Slicing\n",
    "x='Python_Class'\n",
    "y=[4,7,6,5,9,8,'y','g','j']\n",
    "print(x[0:7:1])\n",
    "print(x[0:len(x):3])\n",
    "print(x[0:len(x):-1])\n",
    "print(x[-1:-10:-1])\n",
    "print(x[::-1])\n",
    "print(x[-1:-10:-2])\n",
    "print(x[1::3])\n",
    "print(x[:5:3])"
   ]
  },
  {
   "cell_type": "code",
   "execution_count": 52,
   "id": "37e9a96e",
   "metadata": {},
   "outputs": [
    {
     "name": "stdout",
     "output_type": "stream",
     "text": [
      "IndiaIndore\n"
     ]
    }
   ],
   "source": [
    "#Concatenation\n",
    "x='India'\n",
    "y='Indore'\n",
    "print(x+y)\n"
   ]
  },
  {
   "cell_type": "code",
   "execution_count": 54,
   "id": "e8d479f7",
   "metadata": {},
   "outputs": [
    {
     "name": "stdout",
     "output_type": "stream",
     "text": [
      "IndiaIndiaIndia\n"
     ]
    }
   ],
   "source": [
    "#Repeatition\n",
    "x='India'\n",
    "print(x*3)"
   ]
  },
  {
   "cell_type": "code",
   "execution_count": 56,
   "id": "ce4a3ca5",
   "metadata": {},
   "outputs": [
    {
     "name": "stdout",
     "output_type": "stream",
     "text": [
      "True\n"
     ]
    }
   ],
   "source": [
    "#Membership Operator\n",
    "x='India Indore'\n",
    "print('Ind' in x)"
   ]
  },
  {
   "cell_type": "markdown",
   "id": "d383d7b9",
   "metadata": {},
   "source": [
    "# String methods"
   ]
  },
  {
   "cell_type": "markdown",
   "id": "c8774942",
   "metadata": {},
   "source": [
    "\n",
    "x='india'\n",
    "print(x.upper())"
   ]
  },
  {
   "cell_type": "code",
   "execution_count": 58,
   "id": "35db3945",
   "metadata": {},
   "outputs": [
    {
     "name": "stdout",
     "output_type": "stream",
     "text": [
      "india\n"
     ]
    }
   ],
   "source": [
    "x='InDIA'\n",
    "print(x.lower())"
   ]
  },
  {
   "cell_type": "code",
   "execution_count": 61,
   "id": "85b86499",
   "metadata": {},
   "outputs": [
    {
     "name": "stdout",
     "output_type": "stream",
     "text": [
      "iNdIa\n"
     ]
    }
   ],
   "source": [
    "x='InDiA'\n",
    "print(x.swapcase())"
   ]
  },
  {
   "cell_type": "code",
   "execution_count": 62,
   "id": "26d7d37f",
   "metadata": {},
   "outputs": [
    {
     "name": "stdout",
     "output_type": "stream",
     "text": [
      "Live In India\n"
     ]
    }
   ],
   "source": [
    "x='live in india'\n",
    "print(x.title())"
   ]
  },
  {
   "cell_type": "code",
   "execution_count": 71,
   "id": "2ffc1318",
   "metadata": {},
   "outputs": [
    {
     "name": "stdout",
     "output_type": "stream",
     "text": [
      "False\n",
      "False\n"
     ]
    }
   ],
   "source": [
    "x='i live in india'\n",
    "print(x.startswith('live'))\n",
    "print(x.startswith('live',0,7))"
   ]
  },
  {
   "cell_type": "code",
   "execution_count": 74,
   "id": "5097a95e",
   "metadata": {},
   "outputs": [
    {
     "name": "stdout",
     "output_type": "stream",
     "text": [
      "True\n",
      "True\n"
     ]
    }
   ],
   "source": [
    "x='i live in india'\n",
    "print(x.endswith('ia'))\n",
    "print(x.endswith('ve',2,6))"
   ]
  },
  {
   "cell_type": "code",
   "execution_count": 69,
   "id": "afe96732",
   "metadata": {},
   "outputs": [
    {
     "name": "stdout",
     "output_type": "stream",
     "text": [
      "live\t in india\n",
      "live\n",
      " in india\n",
      "live\b in india\n"
     ]
    }
   ],
   "source": [
    "#Escape Character\n",
    "x='live\\t in india'\n",
    "print(x)\n",
    "x='live\\n in india'\n",
    "print(x)\n",
    "x='live\\b in india'\n",
    "print(x)"
   ]
  },
  {
   "cell_type": "code",
   "execution_count": 75,
   "id": "5a99f0db",
   "metadata": {},
   "outputs": [
    {
     "name": "stdout",
     "output_type": "stream",
     "text": [
      "True\n"
     ]
    }
   ],
   "source": [
    "x='INDIA'\n",
    "print(x.isupper())"
   ]
  },
  {
   "cell_type": "code",
   "execution_count": 76,
   "id": "9135bbf1",
   "metadata": {},
   "outputs": [
    {
     "name": "stdout",
     "output_type": "stream",
     "text": [
      "False\n"
     ]
    }
   ],
   "source": [
    "x='inDIa'\n",
    "print(x.islower())"
   ]
  },
  {
   "cell_type": "code",
   "execution_count": 77,
   "id": "a8320a80",
   "metadata": {},
   "outputs": [
    {
     "name": "stdout",
     "output_type": "stream",
     "text": [
      "True\n"
     ]
    }
   ],
   "source": [
    "x='India Indore'\n",
    "print(x.istitle())"
   ]
  },
  {
   "cell_type": "code",
   "execution_count": 81,
   "id": "24a5497f",
   "metadata": {},
   "outputs": [
    {
     "name": "stdout",
     "output_type": "stream",
     "text": [
      "7\n",
      "5\n"
     ]
    }
   ],
   "source": [
    "x=' india '\n",
    "print(len(x))\n",
    "x.strip()\n",
    "print(len(x.strip()))"
   ]
  },
  {
   "cell_type": "code",
   "execution_count": 82,
   "id": "e619dd61",
   "metadata": {},
   "outputs": [
    {
     "name": "stdout",
     "output_type": "stream",
     "text": [
      "7\n",
      "6\n"
     ]
    }
   ],
   "source": [
    "x=' india '\n",
    "print(len(x))\n",
    "print(len(x.rstrip()))#removes the extra space on the right side "
   ]
  },
  {
   "cell_type": "code",
   "execution_count": 83,
   "id": "7a82d29f",
   "metadata": {},
   "outputs": [
    {
     "name": "stdout",
     "output_type": "stream",
     "text": [
      "7\n",
      "6\n"
     ]
    }
   ],
   "source": [
    "x=' india '\n",
    "print(len(x))\n",
    "print(len(x.lstrip()))#removes the extra space on the left side"
   ]
  },
  {
   "cell_type": "code",
   "execution_count": 91,
   "id": "b6f2bae4",
   "metadata": {},
   "outputs": [
    {
     "name": "stdout",
     "output_type": "stream",
     "text": [
      "4\n",
      "3\n"
     ]
    }
   ],
   "source": [
    "#count function\n",
    "x=' india is my country'\n",
    "print(x.count(' '))\n",
    "print(x.count('i',3,))"
   ]
  },
  {
   "cell_type": "code",
   "execution_count": 108,
   "id": "601c8644",
   "metadata": {},
   "outputs": [
    {
     "name": "stdout",
     "output_type": "stream",
     "text": [
      "0\n",
      "3\n",
      "0\n",
      "10\n",
      "14\n"
     ]
    }
   ],
   "source": [
    "#find\n",
    "x='i live in indore'\n",
    "print(x.find('i'))\n",
    "print(x.find('i',1,7))\n",
    "print(x.find('i',0,))\n",
    "\n",
    "print(x.rfind('i'))\n",
    "x='i live in indoie'\n",
    "print(x.rfind('i',11,))\n"
   ]
  },
  {
   "cell_type": "code",
   "execution_count": 114,
   "id": "3be369eb",
   "metadata": {},
   "outputs": [
    {
     "name": "stdout",
     "output_type": "stream",
     "text": [
      "x lxve xn xndore\n",
      "x lxve in indore\n",
      "i live xn xndore\n"
     ]
    }
   ],
   "source": [
    "#replace\n",
    "x='i live in indore'\n",
    "print(x.replace('i','x'))\n",
    "\n",
    "x='i live in indore'\n",
    "print(x.replace('i','x',2))#the number of times the character is to be replaced\n",
    "\n",
    "x=x[::-1]\n",
    "x=x.replace('i','x',2)\n",
    "x=x[::-1]\n",
    "print(x)"
   ]
  },
  {
   "cell_type": "code",
   "execution_count": 124,
   "id": "32d85f76",
   "metadata": {},
   "outputs": [
    {
     "name": "stdout",
     "output_type": "stream",
     "text": [
      "['I', 'live', 'in', 'indore']\n"
     ]
    }
   ],
   "source": [
    "#split\n",
    "x='I live in indore'\n",
    "y=x.split()\n",
    "print(y)"
   ]
  },
  {
   "cell_type": "code",
   "execution_count": 126,
   "id": "b97797dc",
   "metadata": {},
   "outputs": [
    {
     "name": "stdout",
     "output_type": "stream",
     "text": [
      "I***live***in***indore\n"
     ]
    }
   ],
   "source": [
    "#join\n",
    "print(''.join(y))"
   ]
  },
  {
   "cell_type": "markdown",
   "id": "cdcbda94",
   "metadata": {},
   "source": [
    "# List"
   ]
  },
  {
   "cell_type": "code",
   "execution_count": 127,
   "id": "d646ed94",
   "metadata": {},
   "outputs": [
    {
     "name": "stdout",
     "output_type": "stream",
     "text": [
      "5\n"
     ]
    }
   ],
   "source": [
    "x=['apple','banana','grapes','orange','mango']\n",
    "print(len(x))"
   ]
  },
  {
   "cell_type": "code",
   "execution_count": 129,
   "id": "20913386",
   "metadata": {},
   "outputs": [
    {
     "name": "stdout",
     "output_type": "stream",
     "text": [
      "Enter value of list:[4,7,6,9,6,3,2,1,9]\n",
      "[4, 7, 6, 9, 6, 3, 2, 1, 9]\n"
     ]
    }
   ],
   "source": [
    "y=eval(input(\"Enter value of list:\"))\n",
    "print(y)"
   ]
  },
  {
   "cell_type": "code",
   "execution_count": 132,
   "id": "d373bfb4",
   "metadata": {},
   "outputs": [
    {
     "name": "stdout",
     "output_type": "stream",
     "text": [
      "[3, 8, 34, 78]\n",
      "[78, 56, 34, 11, 8, 5, 3]\n"
     ]
    }
   ],
   "source": [
    "l1=[3,5,8,11,34,56,78]\n",
    "print(l1[::2])\n",
    "print(l1[::-1])\n"
   ]
  },
  {
   "cell_type": "code",
   "execution_count": 133,
   "id": "67778146",
   "metadata": {},
   "outputs": [
    {
     "name": "stdout",
     "output_type": "stream",
     "text": [
      "[3, 6, 5, 8, 7, 7, 2, 7]\n"
     ]
    }
   ],
   "source": [
    "#concatenation\n",
    "x=[3,6,5,8,7]\n",
    "y=[7,2,7]\n",
    "print(x+y)\n"
   ]
  },
  {
   "cell_type": "code",
   "execution_count": 140,
   "id": "820965db",
   "metadata": {},
   "outputs": [
    {
     "name": "stdout",
     "output_type": "stream",
     "text": [
      "[5, 7, 6, [7, 8, 9], 8, 4, 3, 5, 7, 6, [7, 8, 9], 8, 4, 3, 5, 7, 6, [7, 8, 9], 8, 4, 3]\n"
     ]
    }
   ],
   "source": [
    "#repeatition\n",
    "x=[3,6,5,8,7]\n",
    "print(x*3)"
   ]
  },
  {
   "cell_type": "code",
   "execution_count": 135,
   "id": "94df8f38",
   "metadata": {},
   "outputs": [
    {
     "name": "stdout",
     "output_type": "stream",
     "text": [
      "True\n"
     ]
    }
   ],
   "source": [
    "#membreship\n",
    "x=[5,8,7,3,5,8,0]\n",
    "print(8 in x)"
   ]
  },
  {
   "cell_type": "code",
   "execution_count": 138,
   "id": "42138791",
   "metadata": {},
   "outputs": [
    {
     "name": "stdout",
     "output_type": "stream",
     "text": [
      "[7, 8, 9]\n",
      "8\n",
      "9\n"
     ]
    }
   ],
   "source": [
    "#nested lists\n",
    "x=[5,7,6,[7,8,9],8,4,3]\n",
    "print(x[3])\n",
    "print(x[3][1])\n",
    "print(x[-4][-1])"
   ]
  },
  {
   "cell_type": "code",
   "execution_count": 141,
   "id": "2bc53af0",
   "metadata": {},
   "outputs": [
    {
     "name": "stdout",
     "output_type": "stream",
     "text": [
      "[3, 4, 6, 5, 8]\n"
     ]
    }
   ],
   "source": [
    "#append\n",
    "x=[3,4,6,5]\n",
    "x.append(8)\n",
    "print(x)"
   ]
  },
  {
   "cell_type": "code",
   "execution_count": 152,
   "id": "80ffdff0",
   "metadata": {},
   "outputs": [
    {
     "name": "stdout",
     "output_type": "stream",
     "text": [
      "[3, 4, 5, 6, 7, 2, 8]\n"
     ]
    }
   ],
   "source": [
    "#insert\n",
    "x=[3,4,5,6,7,8]\n",
    "x.insert(5,2)\n",
    "print(x)"
   ]
  },
  {
   "cell_type": "code",
   "execution_count": 155,
   "id": "2e4d0bd7",
   "metadata": {},
   "outputs": [
    {
     "name": "stdout",
     "output_type": "stream",
     "text": [
      "[4, 5, 6, 7, 8, 9]\n"
     ]
    }
   ],
   "source": [
    "#Extend\n",
    "l1=[4,5,6]\n",
    "l2=[7,8,9]\n",
    "l1.extend(l2)\n",
    "print(l1)"
   ]
  },
  {
   "cell_type": "code",
   "execution_count": 159,
   "id": "25ed379d",
   "metadata": {},
   "outputs": [
    {
     "name": "stdout",
     "output_type": "stream",
     "text": [
      "9\n"
     ]
    }
   ],
   "source": [
    "#pop\n",
    "l1=[4,5,6,7,8,9]\n",
    "print(l1.pop(-1))\n"
   ]
  },
  {
   "cell_type": "code",
   "execution_count": 160,
   "id": "57fa5ec0",
   "metadata": {},
   "outputs": [
    {
     "name": "stdout",
     "output_type": "stream",
     "text": [
      "[4, 5, 6, 8, 9]\n"
     ]
    }
   ],
   "source": [
    "#remove\n",
    "l1=[4,5,6,7,8,9]\n",
    "l1.remove(7)\n",
    "print(l1)"
   ]
  },
  {
   "cell_type": "code",
   "execution_count": 162,
   "id": "b7595544",
   "metadata": {},
   "outputs": [
    {
     "name": "stdout",
     "output_type": "stream",
     "text": [
      "[4, 5, 6, 8, 9]\n"
     ]
    }
   ],
   "source": [
    "#del\n",
    "l1=[4,5,6,7,8,9]\n",
    "del l1[3]\n",
    "print(l1)"
   ]
  },
  {
   "cell_type": "code",
   "execution_count": 163,
   "id": "323166ee",
   "metadata": {},
   "outputs": [
    {
     "name": "stdout",
     "output_type": "stream",
     "text": [
      "[9, 8, 7, 6, 5, 4]\n"
     ]
    }
   ],
   "source": [
    "#reverse\n",
    "l1=[4,5,6,7,8,9]\n",
    "l1.reverse()\n",
    "print(l1)"
   ]
  },
  {
   "cell_type": "code",
   "execution_count": 166,
   "id": "941d4f0a",
   "metadata": {},
   "outputs": [
    {
     "name": "stdout",
     "output_type": "stream",
     "text": [
      "[2, 4, 5, 7, 8, 9]\n",
      "[9, 8, 7, 5, 4, 2]\n"
     ]
    }
   ],
   "source": [
    "#sort\n",
    "l1=[4,7,2,5,9,8]\n",
    "l1.sort()\n",
    "print(l1)\n",
    "l1.sort(reverse=True)\n",
    "print(l1)"
   ]
  },
  {
   "cell_type": "code",
   "execution_count": 168,
   "id": "35ae39da",
   "metadata": {},
   "outputs": [
    {
     "name": "stdout",
     "output_type": "stream",
     "text": [
      "[]\n"
     ]
    }
   ],
   "source": [
    "#clear\n",
    "l1=[4,56,7,8]\n",
    "l1.clear()\n",
    "print(l1)"
   ]
  },
  {
   "cell_type": "code",
   "execution_count": 169,
   "id": "c642688f",
   "metadata": {},
   "outputs": [
    {
     "name": "stdout",
     "output_type": "stream",
     "text": [
      "2\n"
     ]
    }
   ],
   "source": [
    "#count\n",
    "l1=['y','o','u','a','r','e','a','b','i','t','c','h']\n",
    "print(l1.count('a'))"
   ]
  },
  {
   "cell_type": "markdown",
   "id": "12304058",
   "metadata": {},
   "source": [
    "# Loops"
   ]
  },
  {
   "cell_type": "markdown",
   "id": "a65cfdb9",
   "metadata": {},
   "source": [
    "For Loop"
   ]
  },
  {
   "cell_type": "code",
   "execution_count": 176,
   "id": "40302a56",
   "metadata": {},
   "outputs": [
    {
     "name": "stdout",
     "output_type": "stream",
     "text": [
      "4 9 14 19 24 29 34 39 "
     ]
    }
   ],
   "source": [
    "\n",
    "for i in range(4,40,5):\n",
    "    print(i,end=' ')"
   ]
  },
  {
   "cell_type": "code",
   "execution_count": 173,
   "id": "53adffe7",
   "metadata": {},
   "outputs": [
    {
     "name": "stdout",
     "output_type": "stream",
     "text": [
      "40 38 36 34 32 30 28 26 24 22 20 18 16 14 12 10 8 6 "
     ]
    }
   ],
   "source": [
    "for i in range(40,4,-2):\n",
    "    print(i,end=' ')"
   ]
  },
  {
   "cell_type": "code",
   "execution_count": 175,
   "id": "7a6bb384",
   "metadata": {},
   "outputs": [
    {
     "name": "stdout",
     "output_type": "stream",
     "text": [
      "i\n",
      "n\n",
      "d\n",
      "i\n",
      "a\n"
     ]
    }
   ],
   "source": [
    "x='india'\n",
    "for i in x:\n",
    "    print(i)"
   ]
  },
  {
   "cell_type": "code",
   "execution_count": 177,
   "id": "5137b985",
   "metadata": {},
   "outputs": [
    {
     "name": "stdout",
     "output_type": "stream",
     "text": [
      "i\n",
      "n\n",
      "d\n",
      "i\n",
      "a\n"
     ]
    }
   ],
   "source": [
    "x='india'\n",
    "for i in range(0,len(x)):\n",
    "    print(x[i])"
   ]
  },
  {
   "cell_type": "code",
   "execution_count": 178,
   "id": "d256b1b8",
   "metadata": {},
   "outputs": [
    {
     "name": "stdout",
     "output_type": "stream",
     "text": [
      "[36, 49, 64]\n"
     ]
    }
   ],
   "source": [
    "l1=[6,7,8]\n",
    "l2=[x*x for x in l1] #list comprehension\n",
    "print(l2)"
   ]
  },
  {
   "cell_type": "code",
   "execution_count": 180,
   "id": "3098cb26",
   "metadata": {},
   "outputs": [
    {
     "name": "stdout",
     "output_type": "stream",
     "text": [
      "[36, 49, 64]\n"
     ]
    }
   ],
   "source": [
    "l1=[6,7,8]\n",
    "l2=[]\n",
    "for i in range(len(l1)):\n",
    "    l2.append(l1[i]*l1[i])\n",
    "print(l2)"
   ]
  },
  {
   "cell_type": "code",
   "execution_count": 189,
   "id": "cb7c61c8",
   "metadata": {},
   "outputs": [
    {
     "name": "stdout",
     "output_type": "stream",
     "text": [
      "[512, 343, 216]\n"
     ]
    }
   ],
   "source": [
    "l1=[6,7,8]\n",
    "l2=[]\n",
    "for i in range(len(l1)-1,-1,-1):\n",
    "    l2.append(l1[i]**3)\n",
    "print(l2)"
   ]
  },
  {
   "cell_type": "code",
   "execution_count": 194,
   "id": "9ce24ccb",
   "metadata": {},
   "outputs": [
    {
     "name": "stdout",
     "output_type": "stream",
     "text": [
      "['python', 'class']\n",
      "['nohtyp', 'ssalc']\n",
      "nohtyp ssalc\n"
     ]
    }
   ],
   "source": [
    "x=['python','class']\n",
    "print(x)\n",
    "y=x\n",
    "for i in range(len(y)):\n",
    "    y[i]=y[i][::-1]\n",
    "    \n",
    "print(y)\n",
    "print(\" \".join(y))"
   ]
  },
  {
   "cell_type": "code",
   "execution_count": 195,
   "id": "1cf271d7",
   "metadata": {},
   "outputs": [
    {
     "name": "stdout",
     "output_type": "stream",
     "text": [
      "olleh dlrow\n"
     ]
    }
   ],
   "source": [
    "x='hello world'\n",
    "y=x.split()\n",
    "w=[]\n",
    "for i in y:\n",
    "    w.append(i[::-1])\n",
    "print(\" \".join(w))\n",
    "   "
   ]
  },
  {
   "cell_type": "code",
   "execution_count": 2,
   "id": "413a5ea7",
   "metadata": {},
   "outputs": [
    {
     "name": "stdout",
     "output_type": "stream",
     "text": [
      "p c s\n"
     ]
    }
   ],
   "source": [
    "x='python class summer'\n",
    "y=[]\n",
    "for i in x.split():\n",
    "    y.append(i[0])\n",
    "    \n",
    "print(\" \".join(y))"
   ]
  },
  {
   "cell_type": "code",
   "execution_count": 17,
   "id": "6dd4e01c",
   "metadata": {},
   "outputs": [
    {
     "name": "stdout",
     "output_type": "stream",
     "text": [
      "['Even', 'Odd', 'Even', 'Even', 'Even', 'Odd', 'Even', 'Odd', 'Even', 'Odd', 'Even', 'Odd']\n"
     ]
    }
   ],
   "source": [
    "#list comprehension\n",
    "y=[4,5,6,8,4,3,6,7,0,9,8,7]\n",
    "z=['Even' if x%2==0 else 'Odd' for x in y ]\n",
    "print(z)"
   ]
  },
  {
   "cell_type": "markdown",
   "id": "03657c0e",
   "metadata": {},
   "source": [
    "# Tuple"
   ]
  },
  {
   "cell_type": "code",
   "execution_count": 20,
   "id": "c0bd5fe5",
   "metadata": {},
   "outputs": [
    {
     "name": "stdout",
     "output_type": "stream",
     "text": [
      "(1, 2, 'abc', True, 57.6)\n",
      "<class 'tuple'>\n"
     ]
    }
   ],
   "source": [
    "y=(1,2,'abc',True,57.6)\n",
    "print(y)\n",
    "print(type(y))"
   ]
  },
  {
   "cell_type": "code",
   "execution_count": 21,
   "id": "407097fe",
   "metadata": {},
   "outputs": [
    {
     "name": "stdout",
     "output_type": "stream",
     "text": [
      "(2, [6, 76, 8])\n"
     ]
    }
   ],
   "source": [
    "x=(1,2,'abc',True,[6,76,8],(5,7,6),78)\n",
    "print(x[1::3])"
   ]
  },
  {
   "cell_type": "markdown",
   "id": "dad84de9",
   "metadata": {},
   "source": [
    "Tuple packing"
   ]
  },
  {
   "cell_type": "code",
   "execution_count": 22,
   "id": "7bf26b98",
   "metadata": {},
   "outputs": [
    {
     "name": "stdout",
     "output_type": "stream",
     "text": [
      "(2, 4, 5, 6)\n"
     ]
    }
   ],
   "source": [
    "t1=(2,4,5,6)\n",
    "print(t1)"
   ]
  },
  {
   "cell_type": "markdown",
   "id": "63526a79",
   "metadata": {},
   "source": [
    "Tuple unpacking"
   ]
  },
  {
   "cell_type": "code",
   "execution_count": 27,
   "id": "218049b2",
   "metadata": {},
   "outputs": [
    {
     "name": "stdout",
     "output_type": "stream",
     "text": [
      "2 4 5 6\n",
      "<class 'int'>\n"
     ]
    }
   ],
   "source": [
    "w,x,y,z=2,4,5,6\n",
    "print(w,x,y,z)\n",
    "print(type(w))"
   ]
  },
  {
   "cell_type": "markdown",
   "id": "871e8f25",
   "metadata": {},
   "source": [
    "# Dictionary"
   ]
  },
  {
   "cell_type": "code",
   "execution_count": 34,
   "id": "91a7e1a8",
   "metadata": {},
   "outputs": [
    {
     "name": "stdout",
     "output_type": "stream",
     "text": [
      "{'name': 'Avni', 'City': 'Indore'}\n",
      "<class 'dict'>\n",
      "Avni lives in Indore\n",
      "invA\n"
     ]
    }
   ],
   "source": [
    "x={'name':'Avni','City':'Indore'}\n",
    "print(x)\n",
    "print(type(x))\n",
    "print(x['name'],'lives in',x['City'])\n",
    "print(x['name'][::-1])"
   ]
  },
  {
   "cell_type": "code",
   "execution_count": 40,
   "id": "379a48c2",
   "metadata": {},
   "outputs": [
    {
     "name": "stdout",
     "output_type": "stream",
     "text": [
      "{'name': ['Avni', 'Fiza', 'Ashish'], 'City': ['Indore', 'Kota', 'Ratlam'], 'Age': [21, 22, 21]}\n"
     ]
    }
   ],
   "source": [
    "#Update\n",
    "x={'name':['Avni','Fiza','Ashish'],'City':['Indore','Kota','Ratlam']}\n",
    "x['Age']=[21,22,21]\n",
    "print(x)"
   ]
  },
  {
   "cell_type": "code",
   "execution_count": 41,
   "id": "8da87d02",
   "metadata": {},
   "outputs": [
    {
     "name": "stdout",
     "output_type": "stream",
     "text": [
      "{'name': 'Akash', 'Age': 57, 'city': 'indore', 'salary': 10000}\n"
     ]
    }
   ],
   "source": [
    "x={'name':'Akash','Age':57}\n",
    "x.update({'city':'indore','salary':10000})\n",
    "print(x)"
   ]
  },
  {
   "cell_type": "code",
   "execution_count": 46,
   "id": "ab54bc17",
   "metadata": {},
   "outputs": [
    {
     "name": "stdout",
     "output_type": "stream",
     "text": [
      "Enter the value of test cases3\n",
      "Enter the name:akash\n",
      "Enter his salary1000\n",
      "Enter the name:anil\n",
      "Enter his salary2000\n",
      "Enter the name:ajit\n",
      "Enter his salary7000\n",
      "{'akash': 1000, 'anil': 2000, 'ajit': 7000}\n"
     ]
    }
   ],
   "source": [
    "#y={'akash'=1000,'anil'=2000,'ajit'=7000}\n",
    "n=int(input(\"Enter the value\"))\n",
    "dic1={}\n",
    "for i in range(n):\n",
    "    n=input(\"Enter the name:\")\n",
    "    s=int(input(\"Enter his salary\"))\n",
    "    dic1[n]=s\n",
    "print(dic1)    \n",
    "\n",
    "    "
   ]
  },
  {
   "cell_type": "code",
   "execution_count": 49,
   "id": "961d0eb8",
   "metadata": {},
   "outputs": [
    {
     "name": "stdout",
     "output_type": "stream",
     "text": [
      "1000\n"
     ]
    }
   ],
   "source": [
    "#Pop\n",
    "y={'akash':1000,'anil':2000,'ajit':7000}\n",
    "print(y.pop('akash'))"
   ]
  },
  {
   "cell_type": "code",
   "execution_count": 53,
   "id": "e7cf4db5",
   "metadata": {},
   "outputs": [
    {
     "name": "stdout",
     "output_type": "stream",
     "text": [
      "('ajit', 7000)\n"
     ]
    }
   ],
   "source": [
    "#PopItem\n",
    "y={'akash':1000,'anil':2000,'ajit':7000}\n",
    "print(y.popitem())"
   ]
  },
  {
   "cell_type": "code",
   "execution_count": 56,
   "id": "e8d62709",
   "metadata": {},
   "outputs": [
    {
     "name": "stdout",
     "output_type": "stream",
     "text": [
      "['akash', 'anil', 'ajit']\n"
     ]
    }
   ],
   "source": [
    "y={'akash':1000,'anil':2000,'ajit':7000}\n",
    "print(list(y.keys()))"
   ]
  },
  {
   "cell_type": "code",
   "execution_count": 57,
   "id": "d5cacc0e",
   "metadata": {},
   "outputs": [
    {
     "name": "stdout",
     "output_type": "stream",
     "text": [
      "[1000, 2000, 7000]\n"
     ]
    }
   ],
   "source": [
    "y={'akash':1000,'anil':2000,'ajit':7000}\n",
    "print(list(y.values()))"
   ]
  },
  {
   "cell_type": "code",
   "execution_count": 58,
   "id": "d78cda08",
   "metadata": {},
   "outputs": [
    {
     "name": "stdout",
     "output_type": "stream",
     "text": [
      "[('akash', 1000), ('anil', 2000), ('ajit', 7000)]\n"
     ]
    }
   ],
   "source": [
    "y={'akash':1000,'anil':2000,'ajit':7000}\n",
    "print(list(y.items()))#dictionary in the form of list of tuples of items"
   ]
  },
  {
   "cell_type": "markdown",
   "id": "cd649178",
   "metadata": {},
   "source": [
    "Dictionary Comprehension"
   ]
  },
  {
   "cell_type": "code",
   "execution_count": 59,
   "id": "6ade9e74",
   "metadata": {},
   "outputs": [
    {
     "name": "stdout",
     "output_type": "stream",
     "text": [
      "{4: 16, 5: 25, 6: 36}\n"
     ]
    }
   ],
   "source": [
    "a=[4,5,6]\n",
    "x={i:i**2 for i in a}\n",
    "print(x)"
   ]
  },
  {
   "cell_type": "markdown",
   "id": "8a648f8b",
   "metadata": {},
   "source": [
    "Zip Function"
   ]
  },
  {
   "cell_type": "code",
   "execution_count": 60,
   "id": "be3f90e7",
   "metadata": {},
   "outputs": [
    {
     "name": "stdout",
     "output_type": "stream",
     "text": [
      "[(3, 'three'), (6, 'six'), (5, 'five'), (4, 'four')]\n",
      "{3: 'three', 6: 'six', 5: 'five', 4: 'four'}\n"
     ]
    }
   ],
   "source": [
    "keys=[3,6,5,4]\n",
    "values=['three','six','five','four']\n",
    "print(list(zip(keys,values)))#list of tuples\n",
    "print(dict(zip(keys,values)))"
   ]
  },
  {
   "cell_type": "code",
   "execution_count": 74,
   "id": "af95301e",
   "metadata": {},
   "outputs": [
    {
     "name": "stdout",
     "output_type": "stream",
     "text": [
      "{'a': 1, 'c': 3}\n",
      "{'a': 1, 'c': 3}\n"
     ]
    }
   ],
   "source": [
    "dict1={'a':1,'b':2,'c':3,'d':2}\n",
    "dict2=dict1.copy()\n",
    "for i in dict1: \n",
    "    if dict1[i]==2:\n",
    "         dict2.pop(i)\n",
    "\n",
    "print(dict2)\n",
    "\n",
    "#OR\n",
    "\n",
    "dict1={'a':1,'b':2,'c':3}\n",
    "dict2={i:dict1[i] for i in dict1 if dict1[i]!=2}\n",
    "print(dict2)"
   ]
  },
  {
   "cell_type": "code",
   "execution_count": 3,
   "id": "202df5c5",
   "metadata": {},
   "outputs": [
    {
     "name": "stdout",
     "output_type": "stream",
     "text": [
      "zndore zndza\n"
     ]
    }
   ],
   "source": [
    "x='indore india'\n",
    "l1=[]\n",
    "for i in x:\n",
    "    if i=='i':\n",
    "        l1.append('z')\n",
    "    else:\n",
    "        l1.append(i)\n",
    "print(\"\".join(l1))    \n",
    "        "
   ]
  },
  {
   "cell_type": "code",
   "execution_count": 3,
   "id": "07db2b22",
   "metadata": {},
   "outputs": [
    {
     "name": "stdout",
     "output_type": "stream",
     "text": [
      "15\n"
     ]
    }
   ],
   "source": [
    "sum=0\n",
    "for i in range(6):\n",
    "    sum+=i\n",
    "print(sum)"
   ]
  },
  {
   "cell_type": "markdown",
   "id": "5dde8fd2",
   "metadata": {},
   "source": [
    "Break and continue"
   ]
  },
  {
   "cell_type": "code",
   "execution_count": 5,
   "id": "d9ce2d63",
   "metadata": {},
   "outputs": [
    {
     "name": "stdout",
     "output_type": "stream",
     "text": [
      "0\n",
      "1\n",
      "2\n",
      "3\n",
      "4\n",
      "5\n",
      "6\n"
     ]
    }
   ],
   "source": [
    "for i in range(7):\n",
    "    if i==5:\n",
    "        continue\n",
    "    print(i)"
   ]
  },
  {
   "cell_type": "code",
   "execution_count": 6,
   "id": "d022bcd4",
   "metadata": {},
   "outputs": [
    {
     "name": "stdout",
     "output_type": "stream",
     "text": [
      "1\n",
      "2\n",
      "3\n",
      "4\n",
      "6\n",
      "7\n",
      "8\n",
      "9\n"
     ]
    }
   ],
   "source": [
    "for i in range(11):\n",
    "    if i%5==0:\n",
    "        continue\n",
    "    print(i)"
   ]
  },
  {
   "cell_type": "code",
   "execution_count": 7,
   "id": "e6b4e209",
   "metadata": {},
   "outputs": [
    {
     "name": "stdout",
     "output_type": "stream",
     "text": [
      "[12, 13, 17, 19]\n"
     ]
    }
   ],
   "source": [
    "x=[12,13,15,17,19]\n",
    "y=[i for i in x if i%5!=0]\n",
    "print(y)"
   ]
  },
  {
   "cell_type": "code",
   "execution_count": 11,
   "id": "4f66e0c6",
   "metadata": {},
   "outputs": [
    {
     "name": "stdout",
     "output_type": "stream",
     "text": [
      "xndore xndxa india\n"
     ]
    }
   ],
   "source": [
    "count=0\n",
    "l1=[]\n",
    "s='indore india india'\n",
    "for i in s:\n",
    "    if i=='i' and count<3:\n",
    "        l1.append('x')\n",
    "        count+=1\n",
    "    else:\n",
    "        l1.append(i)\n",
    "print(\"\".join(l1))\n",
    "    "
   ]
  },
  {
   "cell_type": "code",
   "execution_count": 16,
   "id": "ab9fc2a7",
   "metadata": {},
   "outputs": [
    {
     "name": "stdout",
     "output_type": "stream",
     "text": [
      "1 0\n",
      "2 0\n",
      "2 1\n",
      "3 0\n",
      "3 1\n",
      "3 2\n"
     ]
    }
   ],
   "source": [
    "for i in range(4):\n",
    "    for j in range(4):\n",
    "        if i==j:\n",
    "            break\n",
    "            \n",
    "        else:\n",
    "            print(i,j)\n",
    "            "
   ]
  },
  {
   "cell_type": "code",
   "execution_count": 31,
   "id": "8f89ff32",
   "metadata": {},
   "outputs": [
    {
     "name": "stdout",
     "output_type": "stream",
     "text": [
      "p\n",
      "yy\n",
      "ttt\n",
      "hhhh\n",
      "ooooo\n",
      "nnnnnn\n"
     ]
    }
   ],
   "source": [
    "s='python'\n",
    "for i in range(len(s)):\n",
    "    print(s[i]*(i+1))\n",
    "       \n",
    "    \n",
    "        "
   ]
  },
  {
   "cell_type": "code",
   "execution_count": 32,
   "id": "8bc4b44b",
   "metadata": {},
   "outputs": [
    {
     "name": "stdout",
     "output_type": "stream",
     "text": [
      "n\n",
      "oo\n",
      "hhh\n",
      "tttt\n",
      "yyyyy\n",
      "pppppp\n"
     ]
    }
   ],
   "source": [
    "s='python'\n",
    "t=s[::-1]\n",
    "for i in range(len(s)):\n",
    "    print(t[i]*(i+1))\n",
    "       "
   ]
  },
  {
   "cell_type": "markdown",
   "id": "595b229c",
   "metadata": {},
   "source": [
    "# Functions"
   ]
  },
  {
   "cell_type": "code",
   "execution_count": 33,
   "id": "6cc2a688",
   "metadata": {},
   "outputs": [
    {
     "name": "stdout",
     "output_type": "stream",
     "text": [
      "5\n"
     ]
    }
   ],
   "source": [
    "def sum(a,b):\n",
    "    c=a+b\n",
    "    return c\n",
    "x=sum(2,3)\n",
    "print(x)"
   ]
  },
  {
   "cell_type": "code",
   "execution_count": 3,
   "id": "c4045ad7",
   "metadata": {},
   "outputs": [
    {
     "name": "stdout",
     "output_type": "stream",
     "text": [
      "Enter a name :12321\n",
      "True\n"
     ]
    }
   ],
   "source": [
    "def pallindrome(s):\n",
    "    if s==s[::-1]:\n",
    "        print(\"True\")\n",
    "    else:\n",
    "        print(\"False\")\n",
    "s=input(\"Enter a name :\")\n",
    "pallindrome(s)"
   ]
  },
  {
   "cell_type": "code",
   "execution_count": 2,
   "id": "9f5da332",
   "metadata": {},
   "outputs": [
    {
     "name": "stdout",
     "output_type": "stream",
     "text": [
      "Enter a value:77\n",
      "Odd\n"
     ]
    }
   ],
   "source": [
    "def even_odd(n):\n",
    "    if n%2==0:\n",
    "        print(\"Even\")\n",
    "    else:\n",
    "        print(\"Odd\")\n",
    "n=int(input(\"Enter a value:\"))\n",
    "even_odd(n)"
   ]
  },
  {
   "cell_type": "markdown",
   "id": "d1d56833",
   "metadata": {},
   "source": [
    "Lambda Function"
   ]
  },
  {
   "cell_type": "code",
   "execution_count": 7,
   "id": "c7c99338",
   "metadata": {},
   "outputs": [
    {
     "name": "stdout",
     "output_type": "stream",
     "text": [
      "even\n"
     ]
    }
   ],
   "source": [
    "y= lambda x: 'even' if x%2==0 else 'odd'\n",
    "print(y(6))"
   ]
  },
  {
   "cell_type": "code",
   "execution_count": 4,
   "id": "e8ba515d",
   "metadata": {},
   "outputs": [
    {
     "name": "stdout",
     "output_type": "stream",
     "text": [
      "5\n"
     ]
    }
   ],
   "source": [
    "z= lambda x,y: x if x>y else y\n",
    "print(z(2,5))"
   ]
  },
  {
   "cell_type": "code",
   "execution_count": null,
   "id": "3ac7d482",
   "metadata": {},
   "outputs": [],
   "source": []
  }
 ],
 "metadata": {
  "kernelspec": {
   "display_name": "Python 3",
   "language": "python",
   "name": "python3"
  },
  "language_info": {
   "codemirror_mode": {
    "name": "ipython",
    "version": 3
   },
   "file_extension": ".py",
   "mimetype": "text/x-python",
   "name": "python",
   "nbconvert_exporter": "python",
   "pygments_lexer": "ipython3",
   "version": "3.8.8"
  }
 },
 "nbformat": 4,
 "nbformat_minor": 5
}
